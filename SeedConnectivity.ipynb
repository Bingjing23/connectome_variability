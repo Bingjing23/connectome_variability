{
 "cells": [
  {
   "cell_type": "code",
   "execution_count": 12,
   "metadata": {},
   "outputs": [],
   "source": [
    "from typing import  Iterator,  MutableSequence\n",
    "\n",
    "def tokenize(stem: str) -> tuple[MutableSequence[str | None], MutableSequence[str]]:\n",
    "    tokens = stem.split(\"_\")\n",
    "    keys: MutableSequence[str | None] = list()\n",
    "    values: MutableSequence[str] = list()\n",
    "    for token in tokens:\n",
    "        if \"-\" in token:  # A bids tag\n",
    "            key: str | None = token.split(\"-\")[0]\n",
    "            if key is None:\n",
    "                continue\n",
    "            keys.append(key)\n",
    "            values.append(token[len(key) + 1 :])\n",
    "\n",
    "        else:  # A suffix\n",
    "            keys.append(None)\n",
    "            values.append(token)\n",
    "    return keys, values\n",
    "\n",
    "def parse(phenotype: str) -> Iterator[tuple[str, str]]:\n",
    "    keys, values = tokenize(phenotype)\n",
    "\n",
    "    for key, value in zip(keys, values, strict=False):\n",
    "        if key is None:\n",
    "            continue\n",
    "        yield (key, value)"
   ]
  },
  {
   "cell_type": "code",
   "execution_count": 19,
   "metadata": {},
   "outputs": [],
   "source": [
    "from collections import defaultdict\n",
    "import zipfile\n",
    "from pathlib import Path\n",
    "\n",
    "base_path = Path(\"/scratch/imaging/consistency-check/data\")\n",
    "\n",
    "image_paths_by_sub_and_feature = defaultdict(lambda: defaultdict(list))\n",
    "for zip_file_path in base_path.glob(\"*.zip\"):\n",
    "    try:\n",
    "        zip_path = zipfile.Path(zip_file_path)\n",
    "    except zipfile.BadZipFile:\n",
    "        continue\n",
    "    for image_path in zip_path.glob(\"**/*SeedCorr*.nii.gz\"):\n",
    "        tags = dict(parse(image_path.stem))\n",
    "        sub = tags[\"sub\"]\n",
    "        feature = tags[\"feature\"]\n",
    "        image_paths_by_sub_and_feature[sub][feature].append(image_path)"
   ]
  },
  {
   "cell_type": "code",
   "execution_count": 24,
   "metadata": {},
   "outputs": [
    {
     "data": {
      "text/plain": [
       "(dict_keys(['9040', '09', '13192', '01']),\n",
       " {'FalseComb0SeedCorr',\n",
       "  'FalseComb1SeedCorr',\n",
       "  'FalseComb2SeedCorr',\n",
       "  'FalseComb3SeedCorr',\n",
       "  'FalseComb4SeedCorr',\n",
       "  'FalseComb5SeedCorr',\n",
       "  'TrueComb0SeedCorr',\n",
       "  'TrueComb1SeedCorr',\n",
       "  'TrueComb2SeedCorr',\n",
       "  'TrueComb3SeedCorr',\n",
       "  'TrueComb4SeedCorr',\n",
       "  'TrueComb5SeedCorr'})"
      ]
     },
     "execution_count": 24,
     "metadata": {},
     "output_type": "execute_result"
    }
   ],
   "source": [
    "from itertools import chain\n",
    "\n",
    "\n",
    "image_paths_by_sub_and_feature.keys(), set(chain.from_iterable(x.keys() for x in image_paths_by_sub_and_feature.values()))"
   ]
  },
  {
   "cell_type": "code",
   "execution_count": 28,
   "metadata": {},
   "outputs": [
    {
     "data": {
      "text/plain": [
       "100"
      ]
     },
     "execution_count": 28,
     "metadata": {},
     "output_type": "execute_result"
    }
   ],
   "source": [
    "sub = \"9040\"\n",
    "feature = \"FalseComb2SeedCorr\"\n",
    "\n",
    "image_paths = image_paths_by_sub_and_feature[sub][feature]\n",
    "len(image_paths)"
   ]
  },
  {
   "cell_type": "code",
   "execution_count": 2,
   "metadata": {},
   "outputs": [
    {
     "ename": "ModuleNotFoundError",
     "evalue": "No module named 'nibabel'",
     "output_type": "error",
     "traceback": [
      "\u001b[0;31m---------------------------------------------------------------------------\u001b[0m",
      "\u001b[0;31mModuleNotFoundError\u001b[0m                       Traceback (most recent call last)",
      "Cell \u001b[0;32mIn[2], line 1\u001b[0m\n\u001b[0;32m----> 1\u001b[0m \u001b[38;5;28;01mimport\u001b[39;00m \u001b[38;5;21;01mnibabel\u001b[39;00m \u001b[38;5;28;01mas\u001b[39;00m \u001b[38;5;21;01mnib\u001b[39;00m\n\u001b[1;32m      3\u001b[0m images \u001b[38;5;241m=\u001b[39m [nib\u001b[38;5;241m.\u001b[39mnifti1\u001b[38;5;241m.\u001b[39mload(image_path) \u001b[38;5;28;01mfor\u001b[39;00m image_path \u001b[38;5;129;01min\u001b[39;00m image_paths]\n",
      "\u001b[0;31mModuleNotFoundError\u001b[0m: No module named 'nibabel'"
     ]
    }
   ],
   "source": [
    "import nibabel as nib\n",
    "\n",
    "images = [nib.nifti1.load(image_path) for image_path in image_paths]"
   ]
  }
 ],
 "metadata": {
  "kernelspec": {
   "display_name": "Python 3",
   "language": "python",
   "name": "python3"
  },
  "language_info": {
   "codemirror_mode": {
    "name": "ipython",
    "version": 3
   },
   "file_extension": ".py",
   "mimetype": "text/x-python",
   "name": "python",
   "nbconvert_exporter": "python",
   "pygments_lexer": "ipython3",
   "version": "3.12.2"
  }
 },
 "nbformat": 4,
 "nbformat_minor": 2
}
